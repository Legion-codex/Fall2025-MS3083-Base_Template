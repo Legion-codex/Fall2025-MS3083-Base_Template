{
 "cells": [
  {
   "cell_type": "markdown",
   "id": "115773ed",
   "metadata": {},
   "source": [
    "# Homework Assignment - Lesson 5: Data Reshaping with tidyr\n",
    "\n",
    "**Due Date:** [Insert Due Date Here]\n",
    "\n",
    "**Instructions:**\n",
    "\n",
    "- Complete the following tasks in this R notebook\n",
    "- Use the pipe operator (`%>%`) and chain operations wherever possible\n",
    "- Ensure your code is well-commented and easy to understand\n",
    "- Submit your completed notebook file\n",
    "\n",
    "---\n",
    "\n",
    "## Part 1: Data Import and Setup\n",
    "\n",
    "1. **Data Import:**\n",
    "   - Download the following files from the course materials:\n",
    "     - `quarterly_sales_wide.csv` - Sales data in wide format with quarters as columns\n",
    "     - `survey_responses_long.csv` - Survey data in long format\n",
    "     - `employee_skills_wide.csv` - Employee skills matrix in wide format\n",
    "   - Import each file into appropriately named data frames.\n",
    "   - Load the `tidyverse` package.\n",
    "\n",
    "2. **Initial Exploration:**\n",
    "   - Examine the structure of each dataset using `str()` and `head()`.\n",
    "   - Identify which datasets are in \"wide\" format and which are in \"long\" format.\n",
    "   - Note any patterns in column names that might be useful for reshaping.\n",
    "\n",
    "---"
   ]
  },
  {
   "cell_type": "code",
   "execution_count": null,
   "id": "5a61069d",
   "metadata": {
    "vscode": {
     "languageId": "r"
    }
   },
   "outputs": [],
   "source": [
    "# Load necessary packages\n",
    "library(tidyverse) # includes tidyr\n",
    "\n",
    "# Import the required datasets\n",
    "quarterly_sales_wide <- read.csv(\"quarterly_sales_wide.csv\", stringsAsFactors = FALSE)\n",
    "survey_responses_long <- read.csv(\"survey_responses_long.csv\", stringsAsFactors = FALSE)\n",
    "employee_skills_wide <- read.csv(\"employee_skills_wide.csv\", stringsAsFactors = FALSE)\n",
    "\n",
    "# Initial exploration\n",
    "cat(\"=== QUARTERLY SALES DATA ===\\n\")\n",
    "str(quarterly_sales_wide)\n",
    "print(head(quarterly_sales_wide))\n",
    "\n",
    "cat(\"\\n=== SURVEY RESPONSES DATA ===\\n\")\n",
    "str(survey_responses_long)\n",
    "print(head(survey_responses_long))\n",
    "\n",
    "cat(\"\\n=== EMPLOYEE SKILLS DATA ===\\n\")\n",
    "str(employee_skills_wide)\n",
    "print(head(employee_skills_wide))"
   ]
  },
  {
   "cell_type": "markdown",
   "id": "0d2cd491",
   "metadata": {},
   "source": [
    "## Part 2: Converting Wide to Long with `pivot_longer()`\n",
    "\n",
    "1. **Basic Wide to Long Conversion:**\n",
    "   - Using the `quarterly_sales_wide` dataset, convert it from wide to long format:\n",
    "     - The quarter columns (e.g., `Q1_2023`, `Q2_2023`, etc.) should become values in a new column called `Quarter`\n",
    "     - The sales values should go into a new column called `Sales_Amount`\n",
    "     - Keep all other identifying columns (e.g., `Region`, `Product_Category`)\n",
    "   - Store the result in a data frame called `quarterly_sales_long`.\n",
    "\n",
    "2. **Advanced Wide to Long with Name Parsing:**\n",
    "   - If the quarter columns contain both year and quarter information (e.g., `Q1_2023`, `Q2_2023`), use `names_sep` or `names_pattern` to separate this into two columns: `Quarter` and `Year`.\n",
    "   - Store the result in a data frame called `quarterly_sales_parsed`.\n",
    "\n",
    "3. **Employee Skills Conversion:**\n",
    "   - Using the `employee_skills_wide` dataset, convert it from wide to long format:\n",
    "     - Skill columns (e.g., `R_Programming`, `Excel`, `SQL`) should become values in a column called `Skill`\n",
    "     - The proficiency levels should go into a column called `Proficiency_Level`\n",
    "     - Keep employee identifying information\n",
    "   - Store the result in a data frame called `employee_skills_long`.\n",
    "\n",
    "---"
   ]
  },
  {
   "cell_type": "code",
   "execution_count": null,
   "id": "628110fe",
   "metadata": {
    "vscode": {
     "languageId": "r"
    }
   },
   "outputs": [],
   "source": [
    "# Task 2.1: Basic Wide to Long Conversion - Quarterly Sales\n",
    "quarterly_sales_long <- quarterly_sales_wide %>%\n",
    "  pivot_longer(\n",
    "    cols = ______________________,    # YOUR CODE HERE: specify quarter columns\n",
    "    names_to = \"______________\",      # YOUR CODE HERE: name for quarter column\n",
    "    values_to = \"______________\"      # YOUR CODE HERE: name for sales values column\n",
    "  )\n",
    "\n",
    "print(\"Quarterly Sales - Long Format:\")\n",
    "print(head(quarterly_sales_long))"
   ]
  },
  {
   "cell_type": "code",
   "execution_count": null,
   "id": "5da3c207",
   "metadata": {
    "vscode": {
     "languageId": "r"
    }
   },
   "outputs": [],
   "source": [
    "# Task 2.2: Advanced Wide to Long with Name Parsing\n",
    "quarterly_sales_parsed <- quarterly_sales_wide %>%\n",
    "  pivot_longer(\n",
    "    cols = ______________________,\n",
    "    names_to = c(\"______________\", \"______________\"),  # YOUR CODE HERE: Quarter and Year columns\n",
    "    names_sep = \"___\",                                 # YOUR CODE HERE: separator\n",
    "    values_to = \"______________\"\n",
    "  )\n",
    "\n",
    "print(\"Quarterly Sales - Parsed Format:\")\n",
    "print(head(quarterly_sales_parsed))"
   ]
  },
  {
   "cell_type": "code",
   "execution_count": null,
   "id": "4adefa7d",
   "metadata": {
    "vscode": {
     "languageId": "r"
    }
   },
   "outputs": [],
   "source": [
    "# Task 2.3: Employee Skills Wide to Long\n",
    "employee_skills_long <- employee_skills_wide %>%\n",
    "  pivot_longer(\n",
    "    cols = ______________________,    # YOUR CODE HERE: skill columns\n",
    "    names_to = \"______________\",      # YOUR CODE HERE: skill column name\n",
    "    values_to = \"______________\"      # YOUR CODE HERE: proficiency column name\n",
    "  )\n",
    "\n",
    "print(\"Employee Skills - Long Format:\")\n",
    "print(head(employee_skills_long))"
   ]
  },
  {
   "cell_type": "markdown",
   "id": "79c88cfa",
   "metadata": {},
   "source": [
    "## Part 3: Converting Long to Wide with `pivot_wider()`\n",
    "\n",
    "1. **Basic Long to Wide Conversion:**\n",
    "   - Using the `survey_responses_long` dataset (which should have columns like `Respondent_ID`, `Question`, `Response`), convert it to wide format:\n",
    "     - Each unique question should become a separate column\n",
    "     - The responses should fill the cells\n",
    "     - Each row should represent one respondent\n",
    "   - Store the result in a data frame called `survey_responses_wide`.\n",
    "\n",
    "2. **Aggregated Long to Wide:**\n",
    "   - Using your `quarterly_sales_long` data from Part 2, create a wide format where:\n",
    "     - Each region becomes a column\n",
    "     - Each row represents a quarter-year combination\n",
    "     - The values are the total sales for that region in that quarter\n",
    "   - Store the result in a data frame called `sales_by_region_wide`.\n",
    "\n",
    "3. **Skills Matrix Creation:**\n",
    "   - Using your `employee_skills_long` data from Part 2, create a skills matrix where:\n",
    "     - Each skill becomes a column\n",
    "     - Each row represents an employee\n",
    "     - The values are the proficiency levels\n",
    "   - Store the result in a data frame called `skills_matrix`.\n",
    "\n",
    "---"
   ]
  },
  {
   "cell_type": "code",
   "execution_count": null,
   "id": "214da665",
   "metadata": {
    "vscode": {
     "languageId": "r"
    }
   },
   "outputs": [],
   "source": [
    "# Task 3.1: Survey Responses Long to Wide\n",
    "survey_responses_wide <- survey_responses_long %>%\n",
    "  pivot_wider(\n",
    "    names_from = ______________,      # YOUR CODE HERE: column for new names\n",
    "    values_from = ______________      # YOUR CODE HERE: column for values\n",
    "  )\n",
    "\n",
    "print(\"Survey Responses - Wide Format:\")\n",
    "print(head(survey_responses_wide))"
   ]
  },
  {
   "cell_type": "code",
   "execution_count": null,
   "id": "4f344d1f",
   "metadata": {
    "vscode": {
     "languageId": "r"
    }
   },
   "outputs": [],
   "source": [
    "# Task 3.2: Aggregated Long to Wide - Sales by Region\n",
    "sales_by_region_wide <- quarterly_sales_long %>%\n",
    "  pivot_wider(\n",
    "    names_from = ______________,      # YOUR CODE HERE: region column\n",
    "    values_from = ______________      # YOUR CODE HERE: sales column\n",
    "  )\n",
    "\n",
    "print(\"Sales by Region - Wide Format:\")\n",
    "print(head(sales_by_region_wide))"
   ]
  },
  {
   "cell_type": "code",
   "execution_count": null,
   "id": "0a81d985",
   "metadata": {
    "vscode": {
     "languageId": "r"
    }
   },
   "outputs": [],
   "source": [
    "# Task 3.3: Skills Matrix Creation\n",
    "skills_matrix <- employee_skills_long %>%\n",
    "  pivot_wider(\n",
    "    names_from = ______________,      # YOUR CODE HERE: skill column\n",
    "    values_from = ______________      # YOUR CODE HERE: proficiency column\n",
    "  )\n",
    "\n",
    "print(\"Skills Matrix:\")\n",
    "print(head(skills_matrix))"
   ]
  },
  {
   "cell_type": "markdown",
   "id": "cded4996",
   "metadata": {},
   "source": [
    "## Part 4: Complex Reshaping Scenarios\n",
    "\n",
    "1. **Multiple Value Columns:**\n",
    "   - Create a dataset that has both `Sales_Amount` and `Profit_Amount` for each quarter and region.\n",
    "   - Convert this to long format where you have separate rows for sales and profit, with a column indicating the metric type.\n",
    "   - Then convert it back to wide format with quarters as columns.\n",
    "\n",
    "2. **Handling Missing Values in Reshaping:**\n",
    "   - When reshaping your data, some combinations might not exist (e.g., an employee might not have a rating for every skill).\n",
    "   - Demonstrate how `pivot_wider()` handles missing values and how you can control this behavior using the `values_fill` argument.\n",
    "\n",
    "3. **Nested Reshaping:**\n",
    "   - Take your `quarterly_sales_long` data and create a summary that shows:\n",
    "     - Average sales by product category and quarter\n",
    "     - Convert this to wide format with quarters as columns\n",
    "     - Then convert back to long format but group quarters into \"H1\" (Q1, Q2) and \"H2\" (Q3, Q4)\n",
    "\n",
    "---"
   ]
  },
  {
   "cell_type": "code",
   "execution_count": null,
   "id": "ca12b59b",
   "metadata": {
    "vscode": {
     "languageId": "r"
    }
   },
   "outputs": [],
   "source": [
    "# Task 4.1: Multiple Value Columns\n",
    "# YOUR CODE HERE: Create dataset with Sales_Amount and Profit_Amount\n",
    "# Then demonstrate reshaping with multiple value columns\n"
   ]
  },
  {
   "cell_type": "code",
   "execution_count": null,
   "id": "8dcf0f64",
   "metadata": {
    "vscode": {
     "languageId": "r"
    }
   },
   "outputs": [],
   "source": [
    "# Task 4.2: Handling Missing Values\n",
    "# YOUR CODE HERE: Demonstrate missing value handling in pivot_wider()\n",
    "# Show both default behavior and using values_fill argument\n"
   ]
  },
  {
   "cell_type": "code",
   "execution_count": null,
   "id": "c1b55b45",
   "metadata": {
    "vscode": {
     "languageId": "r"
    }
   },
   "outputs": [],
   "source": [
    "# Task 4.3: Nested Reshaping\n",
    "# YOUR CODE HERE: Create complex reshaping scenario as described above\n"
   ]
  },
  {
   "cell_type": "markdown",
   "id": "f53f92ff",
   "metadata": {},
   "source": [
    "## Part 5: Business Applications\n",
    "\n",
    "1. **Time Series Analysis Preparation:**\n",
    "   - Using your `quarterly_sales_long` data, prepare it for time series analysis by:\n",
    "     - Ensuring it's in proper long format with a date/time column\n",
    "     - Creating a complete time series (filling in any missing quarters with 0 sales)\n",
    "     - Adding calculated columns for year-over-year growth rates\n",
    "\n",
    "2. **Dashboard Data Preparation:**\n",
    "   - Create a wide format dataset suitable for a business dashboard that shows:\n",
    "     - Rows: Product categories\n",
    "     - Columns: Quarters\n",
    "     - Values: Total sales\n",
    "     - Additional columns for year-over-year comparisons\n",
    "\n",
    "3. **Survey Analysis:**\n",
    "   - Using your `survey_responses_wide` data, create summary statistics:\n",
    "     - Calculate average scores for each question\n",
    "     - Identify questions with the highest and lowest satisfaction\n",
    "     - Create a correlation matrix between different survey questions\n",
    "\n",
    "---"
   ]
  },
  {
   "cell_type": "code",
   "execution_count": null,
   "id": "9b2eedb3",
   "metadata": {
    "vscode": {
     "languageId": "r"
    }
   },
   "outputs": [],
   "source": [
    "# Task 5.1: Time Series Analysis Preparation\n",
    "# YOUR CODE HERE: Prepare quarterly sales data for time series analysis\n"
   ]
  },
  {
   "cell_type": "code",
   "execution_count": null,
   "id": "c6e4f8ea",
   "metadata": {
    "vscode": {
     "languageId": "r"
    }
   },
   "outputs": [],
   "source": [
    "# Task 5.2: Dashboard Data Preparation\n",
    "# YOUR CODE HERE: Create dashboard-ready dataset\n"
   ]
  },
  {
   "cell_type": "code",
   "execution_count": null,
   "id": "8b3ba623",
   "metadata": {
    "vscode": {
     "languageId": "r"
    }
   },
   "outputs": [],
   "source": [
    "# Task 5.3: Survey Analysis\n",
    "# YOUR CODE HERE: Analyze survey responses in wide format\n"
   ]
  },
  {
   "cell_type": "markdown",
   "id": "fe14276b",
   "metadata": {},
   "source": [
    "## Part 6: Data Validation and Quality Checks\n",
    "\n",
    "1. **Reshape Validation:**\n",
    "   - After each major reshaping operation, verify that:\n",
    "     - The total number of data points is preserved (accounting for the different structure)\n",
    "     - No data was lost or duplicated unexpectedly\n",
    "     - The relationships between variables are maintained\n",
    "\n",
    "2. **Tidy Data Assessment:**\n",
    "   - For each of your final datasets, assess whether they meet the criteria for \"tidy data\":\n",
    "     - Each variable forms a column\n",
    "     - Each observation forms a row\n",
    "     - Each type of observational unit forms a table\n",
    "   - Identify which format (wide or long) is more \"tidy\" for each specific analysis purpose.\n",
    "\n",
    "---"
   ]
  },
  {
   "cell_type": "code",
   "execution_count": null,
   "id": "20ddd520",
   "metadata": {
    "vscode": {
     "languageId": "r"
    }
   },
   "outputs": [],
   "source": [
    "# Task 6.1: Reshape Validation\n",
    "# YOUR CODE HERE: Implement validation checks for your reshaping operations\n"
   ]
  },
  {
   "cell_type": "code",
   "execution_count": null,
   "id": "757edf49",
   "metadata": {
    "vscode": {
     "languageId": "r"
    }
   },
   "outputs": [],
   "source": [
    "# Task 6.2: Tidy Data Assessment\n",
    "# YOUR CODE HERE: Assess which formats are more \"tidy\" for different purposes\n"
   ]
  },
  {
   "cell_type": "markdown",
   "id": "193cfab8",
   "metadata": {},
   "source": [
    "## Part 7: Visualization Preparation\n",
    "\n",
    "1. **ggplot2 Preparation:**\n",
    "   - Prepare your `quarterly_sales_long` data for creating a line chart showing sales trends over time for each region.\n",
    "   - Prepare your `employee_skills_long` data for creating a heatmap showing skill proficiency across employees.\n",
    "\n",
    "2. **Comparison Visualization:**\n",
    "   - Create a dataset that allows you to compare the same metric (e.g., sales) across different dimensions (e.g., regions, quarters) in a single visualization.\n",
    "\n",
    "---"
   ]
  },
  {
   "cell_type": "code",
   "execution_count": null,
   "id": "924c6424",
   "metadata": {
    "vscode": {
     "languageId": "r"
    }
   },
   "outputs": [],
   "source": [
    "# Task 7.1: ggplot2 Data Preparation\n",
    "# YOUR CODE HERE: Prepare data for line chart and heatmap visualizations\n"
   ]
  },
  {
   "cell_type": "code",
   "execution_count": null,
   "id": "a7ccfc5c",
   "metadata": {
    "vscode": {
     "languageId": "r"
    }
   },
   "outputs": [],
   "source": [
    "# Task 7.2: Comparison Visualization Data\n",
    "# YOUR CODE HERE: Create dataset for comparison visualization\n"
   ]
  },
  {
   "cell_type": "markdown",
   "id": "1d13d42b",
   "metadata": {},
   "source": [
    "## Part 8: Analysis Questions\n",
    "\n",
    "Using the reshaped datasets you've created, answer the following questions:\n",
    "\n",
    "1. **Trend Analysis:** What trends do you observe in quarterly sales across different regions? Which region shows the most consistent growth?\n",
    "\n",
    "2. **Skills Gap Analysis:** Based on the employee skills data, what are the most common skill gaps in the organization? Which skills are most prevalent?\n",
    "\n",
    "3. **Survey Insights:** What are the key findings from the survey data? Are there any patterns in responses that suggest areas for improvement?\n",
    "\n",
    "4. **Data Structure Impact:** How did reshaping the data change your ability to answer these business questions? Provide specific examples.\n",
    "\n",
    "---"
   ]
  },
  {
   "cell_type": "code",
   "execution_count": null,
   "id": "8dc38991",
   "metadata": {
    "vscode": {
     "languageId": "r"
    }
   },
   "outputs": [],
   "source": [
    "# Analysis Question 1: Trend Analysis\n",
    "# YOUR CODE HERE: Analyze quarterly sales trends\n"
   ]
  },
  {
   "cell_type": "code",
   "execution_count": null,
   "id": "6ee2d987",
   "metadata": {
    "vscode": {
     "languageId": "r"
    }
   },
   "outputs": [],
   "source": [
    "# Analysis Question 2: Skills Gap Analysis  \n",
    "# YOUR CODE HERE: Analyze employee skills gaps\n"
   ]
  },
  {
   "cell_type": "code",
   "execution_count": null,
   "id": "b31f74d1",
   "metadata": {
    "vscode": {
     "languageId": "r"
    }
   },
   "outputs": [],
   "source": [
    "# Analysis Question 3: Survey Insights\n",
    "# YOUR CODE HERE: Analyze survey response patterns\n"
   ]
  },
  {
   "cell_type": "markdown",
   "id": "7daa4ad8",
   "metadata": {},
   "source": [
    "## Part 9: Reflection Questions\n",
    "\n",
    "Answer the following questions in your submission:\n",
    "\n",
    "1. **Tidy Data Philosophy:** Explain the concept of \"tidy data\" in your own words. Why is this concept important for data analysis, and how does it relate to the reshaping operations you performed?\n",
    "\n",
    "2. **Format Selection:** For each of the datasets you worked with, explain when you would prefer the wide format versus the long format. What factors influence this decision?\n",
    "\n",
    "3. **Business Context:** Describe three real-world business scenarios where data reshaping would be essential. For each scenario, explain what format the data might start in and what format would be needed for analysis.\n",
    "\n",
    "4. **Tool Integration:** How do the reshaping capabilities of `tidyr` complement the data manipulation functions of `dplyr`? Provide examples of analyses that require both types of operations.\n",
    "\n",
    "5. **Data Pipeline:** In a typical business analytics workflow, at what stage would you perform data reshaping? How does this fit into the overall data wrangling process?\n",
    "\n",
    "---\n",
    "\n",
    "**Submission Checklist:**\n",
    "\n",
    "- [ ] R notebook with all code and outputs completed\n",
    "- [ ] All required data reshaping operations completed successfully\n",
    "- [ ] Data validation checks performed and documented\n",
    "- [ ] Datasets prepared for visualization and further analysis\n",
    "- [ ] Answers to analysis questions with supporting evidence\n",
    "- [ ] Answers to reflection questions\n",
    "- [ ] Code is well-commented and demonstrates understanding of when to use each reshaping function\n",
    "\n",
    "Good luck!"
   ]
  }
 ],
 "metadata": {
  "language_info": {
   "name": "python"
  }
 },
 "nbformat": 4,
 "nbformat_minor": 5
}
