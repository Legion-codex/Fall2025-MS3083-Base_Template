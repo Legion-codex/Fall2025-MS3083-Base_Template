{
 "cells": [
  {
   "cell_type": "markdown",
   "id": "115773ed",
   "metadata": {},
   "source": [
    "# Homework Assignment - Lesson 5: Data Reshaping with tidyr\n",
    "\n",
    "**Due Date:** 9/28/2025 \n",
    "\n",
    "**Instructions:**\n",
    "\n",
    "- Complete the following tasks in this R notebook\n",
    "- Use the pipe operator (`%>%`) and chain operations wherever possible\n",
    "- Ensure your code is well-commented and easy to understand\n",
    "- Submit your completed notebook file\n",
    "\n",
    "---\n",
    "\n",
    "## Part 1: Data Import and Setup\n",
    "\n",
    "1. **Data Import:**\n",
    "   - Download the following files from the course materials:\n",
    "     - `quarterly_sales_wide.csv` - Sales data in wide format with quarters as columns\n",
    "     - `survey_responses_long.csv` - Survey data in long format\n",
    "     - `employee_skills_wide.csv` - Employee skills matrix in wide format\n",
    "   - Import each file into appropriately named data frames.\n",
    "   - Load the `tidyverse` package.\n",
    "\n",
    "2. **Initial Exploration:**\n",
    "   - Examine the structure of each dataset using `str()` and `head()`.\n",
    "   - Identify which datasets are in \"wide\" format and which are in \"long\" format.\n",
    "   - Note any patterns in column names that might be useful for reshaping.\n",
    "\n",
    "---"
   ]
  },
  {
   "cell_type": "code",
   "execution_count": 68,
   "id": "5a61069d",
   "metadata": {
    "vscode": {
     "languageId": "r"
    }
   },
   "outputs": [
    {
     "name": "stdout",
     "output_type": "stream",
     "text": [
      "=== QUARTERLY SALES DATA ===\n",
      "'data.frame':\t4 obs. of  8 variables:\n",
      " $ Region          : chr  \"North\" \"South\" \"East\" \"West\"\n",
      " $ Product_Category: chr  \"Electronics\" \"Clothing\" \"Electronics\" \"Clothing\"\n",
      " $ Q1_2023         : int  45000 32000 38000 28000\n",
      " $ Q2_2023         : int  48000 35000 41000 31000\n",
      " $ Q3_2023         : int  46000 33000 39000 29000\n",
      " $ Q4_2023         : int  52000 38000 44000 34000\n",
      " $ Q1_2024         : int  50000 36000 42000 32000\n",
      " $ Q2_2024         : int  54000 40000 46000 36000\n",
      "  Region Product_Category Q1_2023 Q2_2023 Q3_2023 Q4_2023 Q1_2024 Q2_2024\n",
      "1  North      Electronics   45000   48000   46000   52000   50000   54000\n",
      "2  South         Clothing   32000   35000   33000   38000   36000   40000\n",
      "3   East      Electronics   38000   41000   39000   44000   42000   46000\n",
      "4   West         Clothing   28000   31000   29000   34000   32000   36000\n",
      "\n",
      "=== SURVEY RESPONSES DATA ===\n",
      "'data.frame':\t250 obs. of  3 variables:\n",
      " $ Respondent_ID: int  1 1 1 1 1 2 2 2 2 2 ...\n",
      " $ Question     : chr  \"Product_Quality\" \"Customer_Service\" \"Value_for_Money\" \"Delivery_Speed\" ...\n",
      " $ Response     : int  5 4 3 4 3 1 3 2 3 1 ...\n",
      "  Respondent_ID             Question Response\n",
      "1             1      Product_Quality        5\n",
      "2             1     Customer_Service        4\n",
      "3             1      Value_for_Money        3\n",
      "4             1       Delivery_Speed        4\n",
      "5             1 Overall_Satisfaction        3\n",
      "6             2      Product_Quality        1\n",
      "\n",
      "=== EMPLOYEE SKILLS DATA ===\n",
      "'data.frame':\t30 obs. of  8 variables:\n",
      " $ Employee_ID  : int  1 2 3 4 5 6 7 8 9 10 ...\n",
      " $ Employee_Name: chr  \"Employee 1\" \"Employee 2\" \"Employee 3\" \"Employee 4\" ...\n",
      " $ Department   : chr  \"Marketing\" \"Finance\" \"Finance\" \"IT\" ...\n",
      " $ R_Programming: int  4 3 1 4 1 5 4 5 4 3 ...\n",
      " $ Excel        : int  4 5 2 5 2 2 2 3 1 1 ...\n",
      " $ SQL          : int  4 2 1 3 1 1 4 4 2 2 ...\n",
      " $ Python       : int  2 4 4 5 2 4 5 2 1 4 ...\n",
      " $ Tableau      : int  4 2 4 2 1 1 5 3 5 5 ...\n"
     ]
    },
    {
     "name": "stdout",
     "output_type": "stream",
     "text": [
      "  Employee_ID Employee_Name Department R_Programming Excel SQL Python Tableau\n",
      "1           1    Employee 1  Marketing             4     4   4      2       4\n",
      "2           2    Employee 2    Finance             3     5   2      4       2\n",
      "3           3    Employee 3    Finance             1     2   1      4       4\n",
      "4           4    Employee 4         IT             4     5   3      5       2\n",
      "5           5    Employee 5    Finance             1     2   1      2       1\n",
      "6           6    Employee 6         IT             5     2   1      4       1\n"
     ]
    }
   ],
   "source": [
    "# Load necessary packages\n",
    "library(tidyverse) # includes tidyr\n",
    "\n",
    "# Import the required datasets\n",
    "quarterly_sales_wide <- read.csv(\"quarterly_sales_wide.csv\", stringsAsFactors = FALSE)\n",
    "survey_responses_long <- read.csv(\"survey_responses_long.csv\", stringsAsFactors = FALSE)\n",
    "employee_skills_wide <- read.csv(\"employee_skills_wide.csv\", stringsAsFactors = FALSE)\n",
    "\n",
    "# Initial exploration\n",
    "cat(\"=== QUARTERLY SALES DATA ===\\n\")\n",
    "str(quarterly_sales_wide)\n",
    "print(head(quarterly_sales_wide))\n",
    "\n",
    "cat(\"\\n=== SURVEY RESPONSES DATA ===\\n\")\n",
    "str(survey_responses_long)\n",
    "print(head(survey_responses_long))\n",
    "\n",
    "cat(\"\\n=== EMPLOYEE SKILLS DATA ===\\n\")\n",
    "str(employee_skills_wide)\n",
    "print(head(employee_skills_wide))"
   ]
  },
  {
   "cell_type": "markdown",
   "id": "0d2cd491",
   "metadata": {},
   "source": [
    "## Part 2: Converting Wide to Long with `pivot_longer()`\n",
    "\n",
    "1. **Basic Wide to Long Conversion:**\n",
    "   - Using the `quarterly_sales_wide` dataset, convert it from wide to long format:\n",
    "     - The quarter columns (e.g., `Q1_2023`, `Q2_2023`, etc.) should become values in a new column called `Quarter`\n",
    "     - The sales values should go into a new column called `Sales_Amount`\n",
    "     - Keep all other identifying columns (e.g., `Region`, `Product_Category`)\n",
    "   - Store the result in a data frame called `quarterly_sales_long`.\n",
    "\n",
    "2. **Advanced Wide to Long with Name Parsing:**\n",
    "   - If the quarter columns contain both year and quarter information (e.g., `Q1_2023`, `Q2_2023`), use `names_sep` or `names_pattern` to separate this into two columns: `Quarter` and `Year`.\n",
    "   - Store the result in a data frame called `quarterly_sales_parsed`.\n",
    "\n",
    "3. **Employee Skills Conversion:**\n",
    "   - Using the `employee_skills_wide` dataset, convert it from wide to long format:\n",
    "     - Skill columns (e.g., `R_Programming`, `Excel`, `SQL`) should become values in a column called `Skill`\n",
    "     - The proficiency levels should go into a column called `Proficiency_Level`\n",
    "     - Keep employee identifying information\n",
    "   - Store the result in a data frame called `employee_skills_long`.\n",
    "\n",
    "---"
   ]
  },
  {
   "cell_type": "code",
   "execution_count": 69,
   "id": "0b3342c0",
   "metadata": {
    "vscode": {
     "languageId": "r"
    }
   },
   "outputs": [
    {
     "name": "stdout",
     "output_type": "stream",
     "text": [
      "[1] \"quarterly_sales_wide loaded successfully.\"\n",
      "  Region Product_Category Q1_2023 Q2_2023 Q3_2023 Q4_2023 Q1_2024 Q2_2024\n",
      "1  North      Electronics   45000   48000   46000   52000   50000   54000\n",
      "2  South         Clothing   32000   35000   33000   38000   36000   40000\n",
      "3   East      Electronics   38000   41000   39000   44000   42000   46000\n",
      "4   West         Clothing   28000   31000   29000   34000   32000   36000\n"
     ]
    }
   ],
   "source": [
    "# Check if file exists and load data\n",
    "if (file.exists(\"quarterly_sales_wide.csv\")) {\n",
    "  quarterly_sales_wide <- read.csv(\"quarterly_sales_wide.csv\", stringsAsFactors = FALSE)\n",
    "  print(\"quarterly_sales_wide loaded successfully.\")\n",
    "  print(head(quarterly_sales_wide))\n",
    "} else {\n",
    "  stop(\"File quarterly_sales_wide.csv not found in the working directory.\")\n",
    "}"
   ]
  },
  {
   "cell_type": "code",
   "execution_count": 70,
   "id": "628110fe",
   "metadata": {
    "vscode": {
     "languageId": "r"
    }
   },
   "outputs": [
    {
     "name": "stdout",
     "output_type": "stream",
     "text": [
      "[1] \"Quarterly Sales - Long Format:\"\n",
      "\u001b[90m# A tibble: 6 × 4\u001b[39m\n",
      "  Region Product_Category Quarter Sales_Amount\n",
      "  \u001b[3m\u001b[90m<chr>\u001b[39m\u001b[23m  \u001b[3m\u001b[90m<chr>\u001b[39m\u001b[23m            \u001b[3m\u001b[90m<chr>\u001b[39m\u001b[23m          \u001b[3m\u001b[90m<int>\u001b[39m\u001b[23m\n",
      "\u001b[90m1\u001b[39m North  Electronics      Q1_2023        \u001b[4m4\u001b[24m\u001b[4m5\u001b[24m000\n",
      "\u001b[90m2\u001b[39m North  Electronics      Q2_2023        \u001b[4m4\u001b[24m\u001b[4m8\u001b[24m000\n",
      "\u001b[90m3\u001b[39m North  Electronics      Q3_2023        \u001b[4m4\u001b[24m\u001b[4m6\u001b[24m000\n",
      "\u001b[90m4\u001b[39m North  Electronics      Q4_2023        \u001b[4m5\u001b[24m\u001b[4m2\u001b[24m000\n",
      "\u001b[90m5\u001b[39m North  Electronics      Q1_2024        \u001b[4m5\u001b[24m\u001b[4m0\u001b[24m000\n",
      "\u001b[90m6\u001b[39m North  Electronics      Q2_2024        \u001b[4m5\u001b[24m\u001b[4m4\u001b[24m000\n"
     ]
    }
   ],
   "source": [
    "# Task 2.1: Basic Wide to Long Conversion - Quarterly Sales\n",
    "quarterly_sales_long <- quarterly_sales_wide %>%\n",
    "  pivot_longer(\n",
    "    cols = starts_with(\"Q\"),    # YOUR CODE HERE: specify quarter columns\n",
    "    names_to = \"Quarter\",      # YOUR CODE HERE: name for quarter column\n",
    "    values_to = \"Sales_Amount\"      # YOUR CODE HERE: name for sales values column\n",
    "  )\n",
    "\n",
    "print(\"Quarterly Sales - Long Format:\")\n",
    "print(head(quarterly_sales_long))"
   ]
  },
  {
   "cell_type": "code",
   "execution_count": 71,
   "id": "5da3c207",
   "metadata": {
    "vscode": {
     "languageId": "r"
    }
   },
   "outputs": [
    {
     "name": "stdout",
     "output_type": "stream",
     "text": [
      "[1] \"Quarterly Sales - Parsed Format:\"\n",
      "\u001b[90m# A tibble: 6 × 5\u001b[39m\n",
      "  Region Product_Category Quarter Year  Sales_Amount\n",
      "  \u001b[3m\u001b[90m<chr>\u001b[39m\u001b[23m  \u001b[3m\u001b[90m<chr>\u001b[39m\u001b[23m            \u001b[3m\u001b[90m<chr>\u001b[39m\u001b[23m   \u001b[3m\u001b[90m<chr>\u001b[39m\u001b[23m        \u001b[3m\u001b[90m<int>\u001b[39m\u001b[23m\n",
      "\u001b[90m1\u001b[39m North  Electronics      Q1      2023         \u001b[4m4\u001b[24m\u001b[4m5\u001b[24m000\n",
      "\u001b[90m2\u001b[39m North  Electronics      Q2      2023         \u001b[4m4\u001b[24m\u001b[4m8\u001b[24m000\n",
      "\u001b[90m3\u001b[39m North  Electronics      Q3      2023         \u001b[4m4\u001b[24m\u001b[4m6\u001b[24m000\n",
      "\u001b[90m4\u001b[39m North  Electronics      Q4      2023         \u001b[4m5\u001b[24m\u001b[4m2\u001b[24m000\n",
      "\u001b[90m5\u001b[39m North  Electronics      Q1      2024         \u001b[4m5\u001b[24m\u001b[4m0\u001b[24m000\n",
      "\u001b[90m6\u001b[39m North  Electronics      Q2      2024         \u001b[4m5\u001b[24m\u001b[4m4\u001b[24m000\n"
     ]
    }
   ],
   "source": [
    "# Task 2.2: Advanced Wide to Long with Name Parsing\n",
    "quarterly_sales_parsed <- quarterly_sales_wide %>%\n",
    "  pivot_longer(\n",
    "    cols = starts_with(\"Q\"),\n",
    "    names_to = c(\"Quarter\", \"Year\"),  # YOUR CODE HERE: Quarter and Year columns\n",
    "    names_sep = \"_\",                                 # YOUR CODE HERE: separator\n",
    "    values_to = \"Sales_Amount\"                          # YOUR CODE HERE: sales values column\n",
    "  )\n",
    "\n",
    "print(\"Quarterly Sales - Parsed Format:\")\n",
    "print(head(quarterly_sales_parsed))"
   ]
  },
  {
   "cell_type": "code",
   "execution_count": 72,
   "id": "4adefa7d",
   "metadata": {
    "vscode": {
     "languageId": "r"
    }
   },
   "outputs": [
    {
     "name": "stdout",
     "output_type": "stream",
     "text": [
      "[1] \"Employee Skills - Long Format:\"\n"
     ]
    },
    {
     "name": "stdout",
     "output_type": "stream",
     "text": [
      "\u001b[90m# A tibble: 6 × 7\u001b[39m\n",
      "  Employee_ID Employee_Name Department Python Tableau Skill    Proficiency_Level\n",
      "        \u001b[3m\u001b[90m<int>\u001b[39m\u001b[23m \u001b[3m\u001b[90m<chr>\u001b[39m\u001b[23m         \u001b[3m\u001b[90m<chr>\u001b[39m\u001b[23m       \u001b[3m\u001b[90m<int>\u001b[39m\u001b[23m   \u001b[3m\u001b[90m<int>\u001b[39m\u001b[23m \u001b[3m\u001b[90m<chr>\u001b[39m\u001b[23m                \u001b[3m\u001b[90m<int>\u001b[39m\u001b[23m\n",
      "\u001b[90m1\u001b[39m           1 Employee 1    Marketing       2       4 R_Progr…                 4\n",
      "\u001b[90m2\u001b[39m           1 Employee 1    Marketing       2       4 Excel                    4\n",
      "\u001b[90m3\u001b[39m           1 Employee 1    Marketing       2       4 SQL                      4\n",
      "\u001b[90m4\u001b[39m           2 Employee 2    Finance         4       2 R_Progr…                 3\n",
      "\u001b[90m5\u001b[39m           2 Employee 2    Finance         4       2 Excel                    5\n",
      "\u001b[90m6\u001b[39m           2 Employee 2    Finance         4       2 SQL                      2\n"
     ]
    }
   ],
   "source": [
    "# Task 2.3: Employee Skills Wide to Long\n",
    "employee_skills_long <- employee_skills_wide %>%\n",
    "  pivot_longer(\n",
    "    cols = c(R_Programming, Excel, SQL),    # YOUR CODE HERE: skill columns\n",
    "    names_to = \"Skill\",      # YOUR CODE HERE: skill column name\n",
    "    values_to = \"Proficiency_Level\"      # YOUR CODE HERE: proficiency column name\n",
    "  )\n",
    "\n",
    "print(\"Employee Skills - Long Format:\")\n",
    "print(head(employee_skills_long))"
   ]
  },
  {
   "cell_type": "markdown",
   "id": "79c88cfa",
   "metadata": {},
   "source": [
    "## Part 3: Converting Long to Wide with `pivot_wider()`\n",
    "\n",
    "1. **Basic Long to Wide Conversion:**\n",
    "   - Using the `survey_responses_long` dataset (which should have columns like `Respondent_ID`, `Question`, `Response`), convert it to wide format:\n",
    "     - Each unique question should become a separate column\n",
    "     - The responses should fill the cells\n",
    "     - Each row should represent one respondent\n",
    "   - Store the result in a data frame called `survey_responses_wide`.\n",
    "\n",
    "2. **Aggregated Long to Wide:**\n",
    "   - Using your `quarterly_sales_long` data from Part 2, create a wide format where:\n",
    "     - Each region becomes a column\n",
    "     - Each row represents a quarter-year combination\n",
    "     - The values are the total sales for that region in that quarter\n",
    "   - Store the result in a data frame called `sales_by_region_wide`.\n",
    "\n",
    "3. **Skills Matrix Creation:**\n",
    "   - Using your `employee_skills_long` data from Part 2, create a skills matrix where:\n",
    "     - Each skill becomes a column\n",
    "     - Each row represents an employee\n",
    "     - The values are the proficiency levels\n",
    "   - Store the result in a data frame called `skills_matrix`.\n",
    "\n",
    "---"
   ]
  },
  {
   "cell_type": "code",
   "execution_count": 73,
   "id": "214da665",
   "metadata": {
    "vscode": {
     "languageId": "r"
    }
   },
   "outputs": [
    {
     "name": "stdout",
     "output_type": "stream",
     "text": [
      "[1] \"Survey Responses - Wide Format:\"\n"
     ]
    },
    {
     "name": "stdout",
     "output_type": "stream",
     "text": [
      "\u001b[90m# A tibble: 6 × 6\u001b[39m\n",
      "  Respondent_ID Product_Quality Customer_Service Value_for_Money Delivery_Speed\n",
      "          \u001b[3m\u001b[90m<int>\u001b[39m\u001b[23m           \u001b[3m\u001b[90m<int>\u001b[39m\u001b[23m            \u001b[3m\u001b[90m<int>\u001b[39m\u001b[23m           \u001b[3m\u001b[90m<int>\u001b[39m\u001b[23m          \u001b[3m\u001b[90m<int>\u001b[39m\u001b[23m\n",
      "\u001b[90m1\u001b[39m             1               5                4               3              4\n",
      "\u001b[90m2\u001b[39m             2               1                3               2              3\n",
      "\u001b[90m3\u001b[39m             3               3                3               2              3\n",
      "\u001b[90m4\u001b[39m             4               3                5               4              1\n",
      "\u001b[90m5\u001b[39m             5               5                1               4              4\n",
      "\u001b[90m6\u001b[39m             6               2                1               4              4\n",
      "\u001b[90m# ℹ 1 more variable: Overall_Satisfaction <int>\u001b[39m\n"
     ]
    }
   ],
   "source": [
    "# Task 3.1: Survey Responses Long to Wide\n",
    "survey_responses_wide <- survey_responses_long %>%\n",
    "  pivot_wider(\n",
    "    names_from = Question,      # YOUR CODE HERE: column for new names\n",
    "    values_from = Response      # YOUR CODE HERE: column for values\n",
    "  )\n",
    "\n",
    "print(\"Survey Responses - Wide Format:\")\n",
    "print(head(survey_responses_wide))"
   ]
  },
  {
   "cell_type": "code",
   "execution_count": 74,
   "id": "4f344d1f",
   "metadata": {
    "vscode": {
     "languageId": "r"
    }
   },
   "outputs": [
    {
     "name": "stdout",
     "output_type": "stream",
     "text": [
      "[1] \"Sales by Region - Wide Format:\"\n",
      "\u001b[90m# A tibble: 6 × 6\u001b[39m\n",
      "  Product_Category Quarter North South  East  West\n",
      "  \u001b[3m\u001b[90m<chr>\u001b[39m\u001b[23m            \u001b[3m\u001b[90m<chr>\u001b[39m\u001b[23m   \u001b[3m\u001b[90m<int>\u001b[39m\u001b[23m \u001b[3m\u001b[90m<int>\u001b[39m\u001b[23m \u001b[3m\u001b[90m<int>\u001b[39m\u001b[23m \u001b[3m\u001b[90m<int>\u001b[39m\u001b[23m\n",
      "\u001b[90m1\u001b[39m Electronics      Q1_2023 \u001b[4m4\u001b[24m\u001b[4m5\u001b[24m000    \u001b[31mNA\u001b[39m \u001b[4m3\u001b[24m\u001b[4m8\u001b[24m000    \u001b[31mNA\u001b[39m\n",
      "\u001b[90m2\u001b[39m Electronics      Q2_2023 \u001b[4m4\u001b[24m\u001b[4m8\u001b[24m000    \u001b[31mNA\u001b[39m \u001b[4m4\u001b[24m\u001b[4m1\u001b[24m000    \u001b[31mNA\u001b[39m\n",
      "\u001b[90m3\u001b[39m Electronics      Q3_2023 \u001b[4m4\u001b[24m\u001b[4m6\u001b[24m000    \u001b[31mNA\u001b[39m \u001b[4m3\u001b[24m\u001b[4m9\u001b[24m000    \u001b[31mNA\u001b[39m\n",
      "\u001b[90m4\u001b[39m Electronics      Q4_2023 \u001b[4m5\u001b[24m\u001b[4m2\u001b[24m000    \u001b[31mNA\u001b[39m \u001b[4m4\u001b[24m\u001b[4m4\u001b[24m000    \u001b[31mNA\u001b[39m\n",
      "\u001b[90m5\u001b[39m Electronics      Q1_2024 \u001b[4m5\u001b[24m\u001b[4m0\u001b[24m000    \u001b[31mNA\u001b[39m \u001b[4m4\u001b[24m\u001b[4m2\u001b[24m000    \u001b[31mNA\u001b[39m\n",
      "\u001b[90m6\u001b[39m Electronics      Q2_2024 \u001b[4m5\u001b[24m\u001b[4m4\u001b[24m000    \u001b[31mNA\u001b[39m \u001b[4m4\u001b[24m\u001b[4m6\u001b[24m000    \u001b[31mNA\u001b[39m\n"
     ]
    }
   ],
   "source": [
    "# Task 3.2: Aggregated Long to Wide - Sales by Region\n",
    "sales_by_region_wide <- quarterly_sales_long %>%\n",
    "  pivot_wider(\n",
    "    names_from = Region,      # YOUR CODE HERE: region column\n",
    "    values_from = Sales_Amount      # YOUR CODE HERE: sales column                   \n",
    "  )\n",
    "\n",
    "print(\"Sales by Region - Wide Format:\")\n",
    "print(head(sales_by_region_wide))"
   ]
  },
  {
   "cell_type": "code",
   "execution_count": 75,
   "id": "0a81d985",
   "metadata": {
    "vscode": {
     "languageId": "r"
    }
   },
   "outputs": [
    {
     "name": "stdout",
     "output_type": "stream",
     "text": [
      "[1] \"Skills Matrix:\"\n"
     ]
    },
    {
     "name": "stdout",
     "output_type": "stream",
     "text": [
      "\u001b[90m# A tibble: 6 × 8\u001b[39m\n",
      "  Employee_ID Employee_Name Department Python Tableau R_Programming Excel   SQL\n",
      "        \u001b[3m\u001b[90m<int>\u001b[39m\u001b[23m \u001b[3m\u001b[90m<chr>\u001b[39m\u001b[23m         \u001b[3m\u001b[90m<chr>\u001b[39m\u001b[23m       \u001b[3m\u001b[90m<int>\u001b[39m\u001b[23m   \u001b[3m\u001b[90m<int>\u001b[39m\u001b[23m         \u001b[3m\u001b[90m<int>\u001b[39m\u001b[23m \u001b[3m\u001b[90m<int>\u001b[39m\u001b[23m \u001b[3m\u001b[90m<int>\u001b[39m\u001b[23m\n",
      "\u001b[90m1\u001b[39m           1 Employee 1    Marketing       2       4             4     4     4\n",
      "\u001b[90m2\u001b[39m           2 Employee 2    Finance         4       2             3     5     2\n",
      "\u001b[90m3\u001b[39m           3 Employee 3    Finance         4       4             1     2     1\n",
      "\u001b[90m4\u001b[39m           4 Employee 4    IT              5       2             4     5     3\n",
      "\u001b[90m5\u001b[39m           5 Employee 5    Finance         2       1             1     2     1\n",
      "\u001b[90m6\u001b[39m           6 Employee 6    IT              4       1             5     2     1\n"
     ]
    }
   ],
   "source": [
    "# Task 3.3: Skills Matrix Creation\n",
    "skills_matrix <- employee_skills_long %>%\n",
    "  pivot_wider(\n",
    "    names_from = Skill,      # YOUR CODE HERE: skill column\n",
    "    values_from = Proficiency_Level      # YOUR CODE HERE: proficiency column\n",
    "  )\n",
    "\n",
    "print(\"Skills Matrix:\")\n",
    "print(head(skills_matrix))"
   ]
  },
  {
   "cell_type": "markdown",
   "id": "cded4996",
   "metadata": {},
   "source": [
    "## Part 4: Complex Reshaping Scenarios\n",
    "\n",
    "1. **Multiple Value Columns:**\n",
    "   - Create a dataset that has both `Sales_Amount` and `Profit_Amount` for each quarter and region.\n",
    "   - Convert this to long format where you have separate rows for sales and profit, with a column indicating the metric type.\n",
    "   - Then convert it back to wide format with quarters as columns.\n",
    "\n",
    "2. **Handling Missing Values in Reshaping:**\n",
    "   - When reshaping your data, some combinations might not exist (e.g., an employee might not have a rating for every skill).\n",
    "   - Demonstrate how `pivot_wider()` handles missing values and how you can control this behavior using the `values_fill` argument.\n",
    "\n",
    "3. **Nested Reshaping:**\n",
    "   - Take your `quarterly_sales_long` data and create a summary that shows:\n",
    "     - Average sales by product category and quarter\n",
    "     - Convert this to wide format with quarters as columns\n",
    "     - Then convert back to long format but group quarters into \"H1\" (Q1, Q2) and \"H2\" (Q3, Q4)\n",
    "\n",
    "---"
   ]
  },
  {
   "cell_type": "code",
   "execution_count": 76,
   "id": "ca12b59b",
   "metadata": {
    "vscode": {
     "languageId": "r"
    }
   },
   "outputs": [
    {
     "name": "stdout",
     "output_type": "stream",
     "text": [
      "[1] \"Multi-value Long Format:\"\n",
      "\u001b[90m# A tibble: 6 × 4\u001b[39m\n",
      "  Region Product_Category Metric  Amount\n",
      "  \u001b[3m\u001b[90m<chr>\u001b[39m\u001b[23m  \u001b[3m\u001b[90m<chr>\u001b[39m\u001b[23m            \u001b[3m\u001b[90m<chr>\u001b[39m\u001b[23m    \u001b[3m\u001b[90m<dbl>\u001b[39m\u001b[23m\n",
      "\u001b[90m1\u001b[39m North  Electronics      Q1_2023  \u001b[4m4\u001b[24m\u001b[4m5\u001b[24m000\n",
      "\u001b[90m2\u001b[39m North  Electronics      Q2_2023  \u001b[4m4\u001b[24m\u001b[4m8\u001b[24m000\n",
      "\u001b[90m3\u001b[39m North  Electronics      Q3_2023  \u001b[4m4\u001b[24m\u001b[4m6\u001b[24m000\n",
      "\u001b[90m4\u001b[39m North  Electronics      Q4_2023  \u001b[4m5\u001b[24m\u001b[4m2\u001b[24m000\n",
      "\u001b[90m5\u001b[39m North  Electronics      Q1_2024  \u001b[4m5\u001b[24m\u001b[4m0\u001b[24m000\n",
      "\u001b[90m6\u001b[39m North  Electronics      Q2_2024  \u001b[4m5\u001b[24m\u001b[4m4\u001b[24m000\n",
      "[1] \"Multi-value Wide Format:\"\n",
      "\u001b[90m# A tibble: 4 × 9\u001b[39m\n",
      "  Region Product_Category Q1_2023 Q2_2023 Q3_2023 Q4_2023 Q1_2024 Q2_2024\n",
      "  \u001b[3m\u001b[90m<chr>\u001b[39m\u001b[23m  \u001b[3m\u001b[90m<chr>\u001b[39m\u001b[23m              \u001b[3m\u001b[90m<dbl>\u001b[39m\u001b[23m   \u001b[3m\u001b[90m<dbl>\u001b[39m\u001b[23m   \u001b[3m\u001b[90m<dbl>\u001b[39m\u001b[23m   \u001b[3m\u001b[90m<dbl>\u001b[39m\u001b[23m   \u001b[3m\u001b[90m<dbl>\u001b[39m\u001b[23m   \u001b[3m\u001b[90m<dbl>\u001b[39m\u001b[23m\n",
      "\u001b[90m1\u001b[39m North  Electronics        \u001b[4m4\u001b[24m\u001b[4m5\u001b[24m000   \u001b[4m4\u001b[24m\u001b[4m8\u001b[24m000   \u001b[4m4\u001b[24m\u001b[4m6\u001b[24m000   \u001b[4m5\u001b[24m\u001b[4m2\u001b[24m000   \u001b[4m5\u001b[24m\u001b[4m0\u001b[24m000   \u001b[4m5\u001b[24m\u001b[4m4\u001b[24m000\n",
      "\u001b[90m2\u001b[39m South  Clothing           \u001b[4m3\u001b[24m\u001b[4m2\u001b[24m000   \u001b[4m3\u001b[24m\u001b[4m5\u001b[24m000   \u001b[4m3\u001b[24m\u001b[4m3\u001b[24m000   \u001b[4m3\u001b[24m\u001b[4m8\u001b[24m000   \u001b[4m3\u001b[24m\u001b[4m6\u001b[24m000   \u001b[4m4\u001b[24m\u001b[4m0\u001b[24m000\n",
      "\u001b[90m3\u001b[39m East   Electronics        \u001b[4m3\u001b[24m\u001b[4m8\u001b[24m000   \u001b[4m4\u001b[24m\u001b[4m1\u001b[24m000   \u001b[4m3\u001b[24m\u001b[4m9\u001b[24m000   \u001b[4m4\u001b[24m\u001b[4m4\u001b[24m000   \u001b[4m4\u001b[24m\u001b[4m2\u001b[24m000   \u001b[4m4\u001b[24m\u001b[4m6\u001b[24m000\n",
      "\u001b[90m4\u001b[39m West   Clothing           \u001b[4m2\u001b[24m\u001b[4m8\u001b[24m000   \u001b[4m3\u001b[24m\u001b[4m1\u001b[24m000   \u001b[4m2\u001b[24m\u001b[4m9\u001b[24m000   \u001b[4m3\u001b[24m\u001b[4m4\u001b[24m000   \u001b[4m3\u001b[24m\u001b[4m2\u001b[24m000   \u001b[4m3\u001b[24m\u001b[4m6\u001b[24m000\n",
      "\u001b[90m# ℹ 1 more variable: Profit_Amount <dbl>\u001b[39m\n"
     ]
    }
   ],
   "source": [
    "# Task 4.1: Multiple Value Columns\n",
    "quarterly_sales_wide$Profit_Amount <- round(quarterly_sales_wide$Q1_2023 * 0.2, 2) \n",
    "multi_value_long <- quarterly_sales_wide %>%\n",
    "  pivot_longer(\n",
    "    cols = matches(\"Q[1-4]_\\\\d{4}|Profit_Amount\"),\n",
    "    names_to = \"Metric\",\n",
    "    values_to = \"Amount\"\n",
    "  )\n",
    "print(\"Multi-value Long Format:\")\n",
    "print(head(multi_value_long))\n",
    "\n",
    "multi_value_wide <- multi_value_long %>%\n",
    "  pivot_wider(\n",
    "    names_from = Metric,\n",
    "    values_from = Amount\n",
    "  )\n",
    "\n",
    "print(\"Multi-value Wide Format:\")\n",
    "print(head(multi_value_wide))"
   ]
  },
  {
   "cell_type": "code",
   "execution_count": 77,
   "id": "8dcf0f64",
   "metadata": {
    "vscode": {
     "languageId": "r"
    }
   },
   "outputs": [
    {
     "name": "stdout",
     "output_type": "stream",
     "text": [
      "[1] \"Skills Matrix - Default (NA for missing):\"\n",
      "\u001b[90m# A tibble: 6 × 8\u001b[39m\n",
      "  Employee_ID Employee_Name Department Python Tableau R_Programming Excel   SQL\n",
      "        \u001b[3m\u001b[90m<int>\u001b[39m\u001b[23m \u001b[3m\u001b[90m<chr>\u001b[39m\u001b[23m         \u001b[3m\u001b[90m<chr>\u001b[39m\u001b[23m       \u001b[3m\u001b[90m<int>\u001b[39m\u001b[23m   \u001b[3m\u001b[90m<int>\u001b[39m\u001b[23m         \u001b[3m\u001b[90m<int>\u001b[39m\u001b[23m \u001b[3m\u001b[90m<int>\u001b[39m\u001b[23m \u001b[3m\u001b[90m<int>\u001b[39m\u001b[23m\n",
      "\u001b[90m1\u001b[39m           1 Employee 1    Marketing       2       4             4     4     4\n",
      "\u001b[90m2\u001b[39m           2 Employee 2    Finance         4       2             3     5     2\n",
      "\u001b[90m3\u001b[39m           3 Employee 3    Finance         4       4             1     2     1\n",
      "\u001b[90m4\u001b[39m           4 Employee 4    IT              5       2             4     5     3\n",
      "\u001b[90m5\u001b[39m           5 Employee 5    Finance         2       1             1     2     1\n",
      "\u001b[90m6\u001b[39m           6 Employee 6    IT              4       1             5     2     1\n",
      "[1] \"Skills Matrix - Filled (0 for mising):\"\n",
      "\u001b[90m# A tibble: 6 × 8\u001b[39m\n",
      "  Employee_ID Employee_Name Department Python Tableau R_Programming Excel   SQL\n",
      "        \u001b[3m\u001b[90m<int>\u001b[39m\u001b[23m \u001b[3m\u001b[90m<chr>\u001b[39m\u001b[23m         \u001b[3m\u001b[90m<chr>\u001b[39m\u001b[23m       \u001b[3m\u001b[90m<int>\u001b[39m\u001b[23m   \u001b[3m\u001b[90m<int>\u001b[39m\u001b[23m         \u001b[3m\u001b[90m<int>\u001b[39m\u001b[23m \u001b[3m\u001b[90m<int>\u001b[39m\u001b[23m \u001b[3m\u001b[90m<int>\u001b[39m\u001b[23m\n",
      "\u001b[90m1\u001b[39m           1 Employee 1    Marketing       2       4             4     4     4\n",
      "\u001b[90m2\u001b[39m           2 Employee 2    Finance         4       2             3     5     2\n",
      "\u001b[90m3\u001b[39m           3 Employee 3    Finance         4       4             1     2     1\n",
      "\u001b[90m4\u001b[39m           4 Employee 4    IT              5       2             4     5     3\n",
      "\u001b[90m5\u001b[39m           5 Employee 5    Finance         2       1             1     2     1\n",
      "\u001b[90m6\u001b[39m           6 Employee 6    IT              4       1             5     2     1\n"
     ]
    }
   ],
   "source": [
    "# Task 4.2: Handling Missing Values\n",
    "skills_matrix_default <- employee_skills_long %>%\n",
    "  pivot_wider(\n",
    "    names_from = Skill,\n",
    "    values_from = Proficiency_Level\n",
    "  )\n",
    "\n",
    "print(\"Skills Matrix - Default (NA for missing):\")\n",
    "print(head(skills_matrix_default))\n",
    "\n",
    "skills_matrix_filled <- employee_skills_long %>%\n",
    "  pivot_wider(\n",
    "    names_from = Skill,\n",
    "    values_from = Proficiency_Level,\n",
    "    values_fill = 0\n",
    "  )\n",
    "\n",
    "print(\"Skills Matrix - Filled (0 for mising):\")\n",
    "print(head(skills_matrix_filled))"
   ]
  },
  {
   "cell_type": "code",
   "execution_count": 78,
   "id": "c1b55b45",
   "metadata": {
    "vscode": {
     "languageId": "r"
    }
   },
   "outputs": [
    {
     "name": "stderr",
     "output_type": "stream",
     "text": [
      "\u001b[1m\u001b[22m`summarise()` has grouped output by 'Product_Category'. You can override using\n",
      "the `.groups` argument.\n"
     ]
    },
    {
     "name": "stdout",
     "output_type": "stream",
     "text": [
      "[1] \"Average Sales by Product Category and Quarter (Wide):\"\n",
      "\u001b[90m# A tibble: 2 × 7\u001b[39m\n",
      "\u001b[90m# Groups:   Product_Category [2]\u001b[39m\n",
      "  Product_Category Q1_2023 Q1_2024 Q2_2023 Q2_2024 Q3_2023 Q4_2023\n",
      "  \u001b[3m\u001b[90m<chr>\u001b[39m\u001b[23m              \u001b[3m\u001b[90m<dbl>\u001b[39m\u001b[23m   \u001b[3m\u001b[90m<dbl>\u001b[39m\u001b[23m   \u001b[3m\u001b[90m<dbl>\u001b[39m\u001b[23m   \u001b[3m\u001b[90m<dbl>\u001b[39m\u001b[23m   \u001b[3m\u001b[90m<dbl>\u001b[39m\u001b[23m   \u001b[3m\u001b[90m<dbl>\u001b[39m\u001b[23m\n",
      "\u001b[90m1\u001b[39m Clothing           \u001b[4m3\u001b[24m\u001b[4m0\u001b[24m000   \u001b[4m3\u001b[24m\u001b[4m4\u001b[24m000   \u001b[4m3\u001b[24m\u001b[4m3\u001b[24m000   \u001b[4m3\u001b[24m\u001b[4m8\u001b[24m000   \u001b[4m3\u001b[24m\u001b[4m1\u001b[24m000   \u001b[4m3\u001b[24m\u001b[4m6\u001b[24m000\n",
      "\u001b[90m2\u001b[39m Electronics        \u001b[4m4\u001b[24m\u001b[4m1\u001b[24m500   \u001b[4m4\u001b[24m\u001b[4m6\u001b[24m000   \u001b[4m4\u001b[24m\u001b[4m4\u001b[24m500   \u001b[4m5\u001b[24m\u001b[4m0\u001b[24m000   \u001b[4m4\u001b[24m\u001b[4m2\u001b[24m500   \u001b[4m4\u001b[24m\u001b[4m8\u001b[24m000\n",
      "[1] \"Average Sales by Product Category and Half (Long):\"\n",
      "\u001b[90m# A tibble: 6 × 4\u001b[39m\n",
      "\u001b[90m# Groups:   Product_Category [1]\u001b[39m\n",
      "  Product_Category Quarter Average_Sales Half   \n",
      "  \u001b[3m\u001b[90m<chr>\u001b[39m\u001b[23m            \u001b[3m\u001b[90m<chr>\u001b[39m\u001b[23m           \u001b[3m\u001b[90m<dbl>\u001b[39m\u001b[23m \u001b[3m\u001b[90m<chr>\u001b[39m\u001b[23m  \n",
      "\u001b[90m1\u001b[39m Clothing         Q1_2023         \u001b[4m3\u001b[24m\u001b[4m0\u001b[24m000 H1_2023\n",
      "\u001b[90m2\u001b[39m Clothing         Q1_2024         \u001b[4m3\u001b[24m\u001b[4m4\u001b[24m000 \u001b[31mNA\u001b[39m     \n",
      "\u001b[90m3\u001b[39m Clothing         Q2_2023         \u001b[4m3\u001b[24m\u001b[4m3\u001b[24m000 H1_2023\n",
      "\u001b[90m4\u001b[39m Clothing         Q2_2024         \u001b[4m3\u001b[24m\u001b[4m8\u001b[24m000 \u001b[31mNA\u001b[39m     \n",
      "\u001b[90m5\u001b[39m Clothing         Q3_2023         \u001b[4m3\u001b[24m\u001b[4m1\u001b[24m000 H2_2023\n",
      "\u001b[90m6\u001b[39m Clothing         Q4_2023         \u001b[4m3\u001b[24m\u001b[4m6\u001b[24m000 H2_2023\n"
     ]
    }
   ],
   "source": [
    "# Task 4.3: Nested Reshaping\n",
    "avg_sales <- quarterly_sales_long %>%\n",
    "  group_by(Product_Category, Quarter) %>%\n",
    "  summarise(Average_Sales = mean(Sales_Amount, na.rm = TRUE))\n",
    "\n",
    "avg_sales_wide <- avg_sales %>%\n",
    "  pivot_wider(\n",
    "    names_from = Quarter,\n",
    "    values_from = Average_Sales\n",
    "  )\n",
    "\n",
    "print(\"Average Sales by Product Category and Quarter (Wide):\")\n",
    "print(head(avg_sales_wide))\n",
    "\n",
    "avg_sales_long <- avg_sales_wide %>%\n",
    "  pivot_longer(\n",
    "    cols = starts_with(\"Q\"),\n",
    "    names_to = \"Quarter\",\n",
    "    values_to = \"Average_Sales\"\n",
    "  ) %>%\n",
    "mutate(Half = case_when(\n",
    "    Quarter %in% c(\"Q1_2023\", \"Q2_2023\") ~ \"H1_2023\",\n",
    "    Quarter %in% c(\"Q3_2023\", \"Q4_2023\") ~ \"H2_2023\",\n",
    "    TRUE ~ NA_character_\n",
    "  ))\n",
    "\n",
    "print(\"Average Sales by Product Category and Half (Long):\")\n",
    "print(head(avg_sales_long))"
   ]
  },
  {
   "cell_type": "markdown",
   "id": "f53f92ff",
   "metadata": {},
   "source": [
    "## Part 5: Business Applications\n",
    "\n",
    "1. **Time Series Analysis Preparation:**\n",
    "   - Using your `quarterly_sales_long` data, prepare it for time series analysis by:\n",
    "     - Ensuring it's in proper long format with a date/time column\n",
    "     - Creating a complete time series (filling in any missing quarters with 0 sales)\n",
    "     - Adding calculated columns for year-over-year growth rates\n",
    "\n",
    "2. **Dashboard Data Preparation:**\n",
    "   - Create a wide format dataset suitable for a business dashboard that shows:\n",
    "     - Rows: Product categories\n",
    "     - Columns: Quarters\n",
    "     - Values: Total sales\n",
    "     - Additional columns for year-over-year comparisons\n",
    "\n",
    "3. **Survey Analysis:**\n",
    "   - Using your `survey_responses_wide` data, create summary statistics:\n",
    "     - Calculate average scores for each question\n",
    "     - Identify questions with the highest and lowest satisfaction\n",
    "     - Create a correlation matrix between different survey questions\n",
    "\n",
    "---"
   ]
  },
  {
   "cell_type": "code",
   "execution_count": 79,
   "id": "9b2eedb3",
   "metadata": {
    "vscode": {
     "languageId": "r"
    }
   },
   "outputs": [
    {
     "name": "stdout",
     "output_type": "stream",
     "text": [
      "[1] \"Quarterly Sales Data Prepared for Time Series Analysis:\"\n",
      "\u001b[90m# A tibble: 6 × 6\u001b[39m\n",
      "\u001b[90m# Groups:   Region, Product_Category [1]\u001b[39m\n",
      "  Region Product_Category Quarter Date   Sales_Amount YoY_Growth\n",
      "  \u001b[3m\u001b[90m<chr>\u001b[39m\u001b[23m  \u001b[3m\u001b[90m<chr>\u001b[39m\u001b[23m            \u001b[3m\u001b[90m<chr>\u001b[39m\u001b[23m   \u001b[3m\u001b[90m<date>\u001b[39m\u001b[23m        \u001b[3m\u001b[90m<int>\u001b[39m\u001b[23m      \u001b[3m\u001b[90m<dbl>\u001b[39m\u001b[23m\n",
      "\u001b[90m1\u001b[39m East   Clothing         Q1_2023 \u001b[31mNA\u001b[39m                0         \u001b[31mNA\u001b[39m\n",
      "\u001b[90m2\u001b[39m East   Clothing         Q1_2024 \u001b[31mNA\u001b[39m                0         \u001b[31mNA\u001b[39m\n",
      "\u001b[90m3\u001b[39m East   Clothing         Q2_2023 \u001b[31mNA\u001b[39m                0         \u001b[31mNA\u001b[39m\n",
      "\u001b[90m4\u001b[39m East   Clothing         Q2_2024 \u001b[31mNA\u001b[39m                0         \u001b[31mNA\u001b[39m\n",
      "\u001b[90m5\u001b[39m East   Clothing         Q3_2023 \u001b[31mNA\u001b[39m                0        \u001b[31mNaN\u001b[39m\n",
      "\u001b[90m6\u001b[39m East   Clothing         Q4_2023 \u001b[31mNA\u001b[39m                0        \u001b[31mNaN\u001b[39m\n"
     ]
    }
   ],
   "source": [
    "# Task 5.1: Time Series Analysis Preparation\n",
    "quarterly_sales_long <- quarterly_sales_long %>%\n",
    "  mutate(Date = as.Date(paste0(sub(\"Q([1-4])_(\\\\d{4})\", \"\\\\2-\", c(\"01\", \"04\", \"07\", \"10\")[as.numeric(sub(\"Q([1-4])_.*\", \"\\\\1\", Quarter))], \"-01\")), format=\"%Y-%m-%d\"))\n",
    "\n",
    "library(tidyr)\n",
    "complete_sales <- quarterly_sales_long %>%\n",
    "  complete(Region, Product_Category, Quarter, Date, fill = list(Sales_Amount = 0))\n",
    "\n",
    "complete_sales <- complete_sales %>%\n",
    "  group_by(Region,  Product_Category) %>%\n",
    "  arrange(Date) %>%\n",
    "  mutate(YoY_Growth = (Sales_Amount - lag(Sales_Amount, 4)) / lag(Sales_Amount, 4) * 100)\n",
    "\n",
    "print(\"Quarterly Sales Data Prepared for Time Series Analysis:\")\n",
    "print(head(complete_sales))"
   ]
  },
  {
   "cell_type": "code",
   "execution_count": 80,
   "id": "c6e4f8ea",
   "metadata": {
    "vscode": {
     "languageId": "r"
    }
   },
   "outputs": [
    {
     "name": "stderr",
     "output_type": "stream",
     "text": [
      "\u001b[1m\u001b[22m`summarise()` has grouped output by 'Product_Category'. You can override using\n",
      "the `.groups` argument.\n"
     ]
    },
    {
     "name": "stdout",
     "output_type": "stream",
     "text": [
      "[1] \"Dashboard-ready dataset:\"\n",
      "\u001b[90m# A tibble: 2 × 8\u001b[39m\n",
      "\u001b[90m# Groups:   Product_Category [2]\u001b[39m\n",
      "  Product_Category Q1_2023 Q1_2024 Q2_2023 Q2_2024 Q3_2023 Q4_2023 Q1_YoY\n",
      "  \u001b[3m\u001b[90m<chr>\u001b[39m\u001b[23m              \u001b[3m\u001b[90m<int>\u001b[39m\u001b[23m   \u001b[3m\u001b[90m<int>\u001b[39m\u001b[23m   \u001b[3m\u001b[90m<int>\u001b[39m\u001b[23m   \u001b[3m\u001b[90m<int>\u001b[39m\u001b[23m   \u001b[3m\u001b[90m<int>\u001b[39m\u001b[23m   \u001b[3m\u001b[90m<int>\u001b[39m\u001b[23m  \u001b[3m\u001b[90m<dbl>\u001b[39m\u001b[23m\n",
      "\u001b[90m1\u001b[39m Clothing           \u001b[4m6\u001b[24m\u001b[4m0\u001b[24m000   \u001b[4m6\u001b[24m\u001b[4m8\u001b[24m000   \u001b[4m6\u001b[24m\u001b[4m6\u001b[24m000   \u001b[4m7\u001b[24m\u001b[4m6\u001b[24m000   \u001b[4m6\u001b[24m\u001b[4m2\u001b[24m000   \u001b[4m7\u001b[24m\u001b[4m2\u001b[24m000     \u001b[31mNA\u001b[39m\n",
      "\u001b[90m2\u001b[39m Electronics        \u001b[4m8\u001b[24m\u001b[4m3\u001b[24m000   \u001b[4m9\u001b[24m\u001b[4m2\u001b[24m000   \u001b[4m8\u001b[24m\u001b[4m9\u001b[24m000  \u001b[4m1\u001b[24m\u001b[4m0\u001b[24m\u001b[4m0\u001b[24m000   \u001b[4m8\u001b[24m\u001b[4m5\u001b[24m000   \u001b[4m9\u001b[24m\u001b[4m6\u001b[24m000     \u001b[31mNA\u001b[39m\n"
     ]
    }
   ],
   "source": [
    "# Task 5.2: Dashboard Data Preparation\n",
    "dashboard_data <- quarterly_sales_long %>%\n",
    "  group_by(Product_Category, Quarter) %>%\n",
    "  summarise(Total_Sales = sum(Sales_Amount, na.rm = TRUE)) %>%\n",
    "  pivot_wider(\n",
    "    names_from = Quarter,\n",
    "    values_from = Total_Sales,\n",
    "  )\n",
    "\n",
    "dashboard_data <- dashboard_data %>%\n",
    "  mutate(Q1_YoY = (`Q1_2023` - lag(`Q1_2023`)) / lag(`Q1_2023`) * 100)\n",
    "\n",
    "print(\"Dashboard-ready dataset:\")\n",
    "print(head(dashboard_data))\n"
   ]
  },
  {
   "cell_type": "code",
   "execution_count": 81,
   "id": "8b3ba623",
   "metadata": {
    "vscode": {
     "languageId": "r"
    }
   },
   "outputs": [
    {
     "name": "stdout",
     "output_type": "stream",
     "text": [
      "[1] \"Average scores for each question:\"\n"
     ]
    },
    {
     "name": "stdout",
     "output_type": "stream",
     "text": [
      "\u001b[90m# A tibble: 1 × 6\u001b[39m\n",
      "  Respondent_ID Product_Quality Customer_Service Value_for_Money Delivery_Speed\n",
      "          \u001b[3m\u001b[90m<dbl>\u001b[39m\u001b[23m           \u001b[3m\u001b[90m<dbl>\u001b[39m\u001b[23m            \u001b[3m\u001b[90m<dbl>\u001b[39m\u001b[23m           \u001b[3m\u001b[90m<dbl>\u001b[39m\u001b[23m          \u001b[3m\u001b[90m<dbl>\u001b[39m\u001b[23m\n",
      "\u001b[90m1\u001b[39m          25.5            3.14             3.04             2.9           3.36\n",
      "\u001b[90m# ℹ 1 more variable: Overall_Satisfaction <dbl>\u001b[39m\n",
      "Highest satisfaction question: Respondent_ID \n",
      "Lowest satisfaction question: Value_for_Money \n",
      "[1] \"Correlation matrix between survey questions:\"\n",
      "                     Respondent_ID Product_Quality Customer_Service\n",
      "Respondent_ID            1.0000000     -0.10533860      -0.10574640\n",
      "Product_Quality         -0.1053386      1.00000000       0.22285138\n",
      "Customer_Service        -0.1057464      0.22285138       1.00000000\n",
      "Value_for_Money         -0.2375157      0.37750376       0.08411789\n",
      "Delivery_Speed           0.1585383     -0.11432290      -0.09463263\n",
      "Overall_Satisfaction    -0.1183897      0.02915048       0.24602334\n",
      "                     Value_for_Money Delivery_Speed Overall_Satisfaction\n",
      "Respondent_ID           -0.237515714    0.158538335          -0.11838975\n",
      "Product_Quality          0.377503757   -0.114322904           0.02915048\n",
      "Customer_Service         0.084117890   -0.094632626           0.24602334\n",
      "Value_for_Money          1.000000000    0.009456265           0.09750470\n",
      "Delivery_Speed           0.009456265    1.000000000          -0.12802446\n",
      "Overall_Satisfaction     0.097504696   -0.128024458           1.00000000\n"
     ]
    }
   ],
   "source": [
    "# Task 5.3: Survey Analysis\n",
    "question_means <- survey_responses_wide %>%\n",
    "  summarise(across(where(is.numeric), mean, na.rm = TRUE))\n",
    "\n",
    "print(\"Average scores for each question:\")\n",
    "print(question_means)\n",
    "\n",
    "max_question <- names(question_means)[which.max(question_means)]\n",
    "min_question <- names(question_means)[which.min(question_means)]\n",
    "\n",
    "cat(\"Highest satisfaction question:\", max_question, \"\\n\")\n",
    "cat(\"Lowest satisfaction question:\", min_question, \"\\n\")\n",
    "\n",
    "cor_matrix <- survey_responses_wide %>%\n",
    "  select(where(is.numeric)) %>%\n",
    "  cor(use = \"pairwise.complete.obs\")\n",
    "\n",
    "print(\"Correlation matrix between survey questions:\")\n",
    "print(cor_matrix)"
   ]
  },
  {
   "cell_type": "markdown",
   "id": "fe14276b",
   "metadata": {},
   "source": [
    "## Part 6: Data Validation and Quality Checks\n",
    "\n",
    "1. **Reshape Validation:**\n",
    "   - After each major reshaping operation, verify that:\n",
    "     - The total number of data points is preserved (accounting for the different structure)\n",
    "     - No data was lost or duplicated unexpectedly\n",
    "     - The relationships between variables are maintained\n",
    "\n",
    "2. **Tidy Data Assessment:**\n",
    "   - For each of your final datasets, assess whether they meet the criteria for \"tidy data\":\n",
    "     - Each variable forms a column\n",
    "     - Each observation forms a row\n",
    "     - Each type of observational unit forms a table\n",
    "   - Identify which format (wide or long) is more \"tidy\" for each specific analysis purpose.\n",
    "\n",
    "---"
   ]
  },
  {
   "cell_type": "code",
   "execution_count": 82,
   "id": "20ddd520",
   "metadata": {
    "vscode": {
     "languageId": "r"
    }
   },
   "outputs": [
    {
     "name": "stderr",
     "output_type": "stream",
     "text": [
      "\u001b[1m\u001b[22mAdding missing grouping variables: `Product_Category`\n"
     ]
    },
    {
     "name": "stdout",
     "output_type": "stream",
     "text": [
      "Clothing Electronics 60000 83000 68000 92000 66000 89000 76000 100000 62000 85000 72000 96000 NA NA Total sales in long format: 949000 \n",
      "Total sales in dashboard wide format: \n",
      "Duplicated rows in quarterly_sales_long: 0 \n",
      "Duplicated rows in dashboard_data: 0 \n",
      "Missing values in dashboard_data: 2 \n"
     ]
    }
   ],
   "source": [
    "# Task 6.1: Reshape Validation\n",
    "total_sales_long <- sum(quarterly_sales_long$Sales_Amount, na.rm = TRUE)\n",
    "total_sales_dashboard <- dashboard_data %>%\n",
    "  select(-Product_Category) %>%\n",
    "  unlist() %>%\n",
    "\n",
    "cat(\"Total sales in long format:\", total_sales_long, \"\\n\")\n",
    "cat(\"Total sales in dashboard wide format:\", total_sales_dashboard, \"\\n\")\n",
    "\n",
    "cat(\"Duplicated rows in quarterly_sales_long:\", sum(duplicated(quarterly_sales_long)), \"\\n\")\n",
    "cat(\"Duplicated rows in dashboard_data:\", sum(duplicated(dashboard_data)), \"\\n\")\n",
    "\n",
    "cat(\"Missing values in dashboard_data:\", sum(is.na(dashboard_data)), \"\\n\")\n",
    "\n"
   ]
  },
  {
   "cell_type": "code",
   "execution_count": 83,
   "id": "757edf49",
   "metadata": {
    "vscode": {
     "languageId": "r"
    }
   },
   "outputs": [
    {
     "name": "stdout",
     "output_type": "stream",
     "text": [
      "quarterly_sales_long is tidy if:\n",
      "- Each variable (Region, Product_Category, Quarter, Sales_Amount) forms a column\n"
     ]
    },
    {
     "name": "stdout",
     "output_type": "stream",
     "text": [
      "- Each observation (a sale for a region/category/quarter) forms a row\n",
      "- Each type of observational unit (sales transaction) forms a table\n",
      "\n",
      "dashboard_data is tidy for dashboard/reporting if:\n",
      "- Each variable (Product_Category, Q1_2023, Q2_2023, ...) forms a column\n",
      "- Each observation (a product category) forms a row\n",
      "- Wide format is better for summary tables and dashboards\n",
      "\n",
      "employee_skills_long is tidy if:\n",
      "- Each variable (Employee_ID, Skill, Proficiency_Level) forms a column\n",
      "- Each observation (an employee's skill rating) forms a row\n",
      "- Long format is better for analysis and plotting\n",
      "\n",
      "skills_matrix is tidy for matrix-style analysis if:\n",
      "- Each variable (Employee_ID, R_Programming, Excel, SQL, ...) forms a column\n",
      "- Each observation (an employee) forms a row\n",
      "- Wide format is better for comparing employees across skills\n",
      "\n"
     ]
    }
   ],
   "source": [
    "# Task 6.2: Tidy Data Assessment\n",
    "cat(\"quarterly_sales_long is tidy if:\\n\")\n",
    "cat(\"- Each variable (Region, Product_Category, Quarter, Sales_Amount) forms a column\\n\")\n",
    "cat(\"- Each observation (a sale for a region/category/quarter) forms a row\\n\")\n",
    "cat(\"- Each type of observational unit (sales transaction) forms a table\\n\\n\")\n",
    "\n",
    "cat(\"dashboard_data is tidy for dashboard/reporting if:\\n\")\n",
    "cat(\"- Each variable (Product_Category, Q1_2023, Q2_2023, ...) forms a column\\n\")\n",
    "cat(\"- Each observation (a product category) forms a row\\n\")\n",
    "cat(\"- Wide format is better for summary tables and dashboards\\n\\n\")\n",
    "\n",
    "cat(\"employee_skills_long is tidy if:\\n\")\n",
    "cat(\"- Each variable (Employee_ID, Skill, Proficiency_Level) forms a column\\n\")\n",
    "cat(\"- Each observation (an employee's skill rating) forms a row\\n\")\n",
    "cat(\"- Long format is better for analysis and plotting\\n\\n\")\n",
    "\n",
    "cat(\"skills_matrix is tidy for matrix-style analysis if:\\n\")\n",
    "cat(\"- Each variable (Employee_ID, R_Programming, Excel, SQL, ...) forms a column\\n\")\n",
    "cat(\"- Each observation (an employee) forms a row\\n\")\n",
    "cat(\"- Wide format is better for comparing employees across skills\\n\\n\")\n"
   ]
  },
  {
   "cell_type": "markdown",
   "id": "193cfab8",
   "metadata": {},
   "source": [
    "## Part 7: Visualization Preparation\n",
    "\n",
    "1. **ggplot2 Preparation:**\n",
    "   - Prepare your `quarterly_sales_long` data for creating a line chart showing sales trends over time for each region.\n",
    "   - Prepare your `employee_skills_long` data for creating a heatmap showing skill proficiency across employees.\n",
    "\n",
    "2. **Comparison Visualization:**\n",
    "   - Create a dataset that allows you to compare the same metric (e.g., sales) across different dimensions (e.g., regions, quarters) in a single visualization.\n",
    "\n",
    "---"
   ]
  },
  {
   "cell_type": "code",
   "execution_count": 84,
   "id": "924c6424",
   "metadata": {
    "vscode": {
     "languageId": "r"
    }
   },
   "outputs": [
    {
     "name": "stderr",
     "output_type": "stream",
     "text": [
      "\u001b[1m\u001b[22m`summarise()` has grouped output by 'Region'. You can override using the\n",
      "`.groups` argument.\n",
      "\u001b[1m\u001b[22m`summarise()` has grouped output by 'Employee_ID'. You can override using the\n",
      "`.groups` argument.\n"
     ]
    }
   ],
   "source": [
    "# Task 7.1: ggplot2 Data Preparation\n",
    "sales_trend_data <- quarterly_sales_long %>%\n",
    "  group_by(Region, Quarter) %>%\n",
    "  summarise(Total_Sales = sum(Sales_Amount, na.rm = TRUE)) %>%\n",
    "  ungroup()\n",
    "\n",
    "skills_heatmap_data <- employee_skills_long %>%\n",
    "  group_by(Employee_ID, Skill) %>%\n",
    "  summarise(Avg_Proficiency = mean(Proficiency_Level, na.rm = TRUE)) %>%\n",
    "  ungroup()\n"
   ]
  },
  {
   "cell_type": "code",
   "execution_count": 85,
   "id": "a7ccfc5c",
   "metadata": {
    "vscode": {
     "languageId": "r"
    }
   },
   "outputs": [
    {
     "name": "stderr",
     "output_type": "stream",
     "text": [
      "\u001b[1m\u001b[22m`summarise()` has grouped output by 'Region'. You can override using the\n",
      "`.groups` argument.\n"
     ]
    },
    {
     "name": "stdout",
     "output_type": "stream",
     "text": [
      "[1] \"Comparison dataset for sales across regions and quarters:\"\n",
      "\u001b[90m# A tibble: 6 × 3\u001b[39m\n",
      "  Region Quarter Total_Sales\n",
      "  \u001b[3m\u001b[90m<chr>\u001b[39m\u001b[23m  \u001b[3m\u001b[90m<chr>\u001b[39m\u001b[23m         \u001b[3m\u001b[90m<int>\u001b[39m\u001b[23m\n",
      "\u001b[90m1\u001b[39m East   Q1_2023       \u001b[4m3\u001b[24m\u001b[4m8\u001b[24m000\n",
      "\u001b[90m2\u001b[39m East   Q1_2024       \u001b[4m4\u001b[24m\u001b[4m2\u001b[24m000\n",
      "\u001b[90m3\u001b[39m East   Q2_2023       \u001b[4m4\u001b[24m\u001b[4m1\u001b[24m000\n",
      "\u001b[90m4\u001b[39m East   Q2_2024       \u001b[4m4\u001b[24m\u001b[4m6\u001b[24m000\n",
      "\u001b[90m5\u001b[39m East   Q3_2023       \u001b[4m3\u001b[24m\u001b[4m9\u001b[24m000\n",
      "\u001b[90m6\u001b[39m East   Q4_2023       \u001b[4m4\u001b[24m\u001b[4m4\u001b[24m000\n"
     ]
    }
   ],
   "source": [
    "# Task 7.2: Comparison Visualization Data\n",
    "comparison_data <- quarterly_sales_long %>%\n",
    "  group_by(Region, Quarter) %>%\n",
    "  summarise(Total_Sales = sum(Sales_Amount, na.rm = TRUE)) %>%\n",
    "  ungroup()\n",
    "\n",
    "  print(\"Comparison dataset for sales across regions and quarters:\")\n",
    "  print(head(comparison_data))"
   ]
  },
  {
   "cell_type": "markdown",
   "id": "1d13d42b",
   "metadata": {},
   "source": [
    "## Part 8: Analysis Questions\n",
    "\n",
    "Using the reshaped datasets you've created, answer the following questions:\n",
    "\n",
    "1. **Trend Analysis:** What trends do you observe in quarterly sales across different regions? Which region shows the most consistent growth?\n",
    "\n",
    "2. **Skills Gap Analysis:** Based on the employee skills data, what are the most common skill gaps in the organization? Which skills are most prevalent?\n",
    "\n",
    "3. **Survey Insights:** What are the key findings from the survey data? Are there any patterns in responses that suggest areas for improvement?\n",
    "\n",
    "4. **Data Structure Impact:** How did reshaping the data change your ability to answer these business questions? Provide specific examples.\n",
    "\n",
    "---"
   ]
  },
  {
   "cell_type": "code",
   "execution_count": 86,
   "id": "8dc38991",
   "metadata": {
    "vscode": {
     "languageId": "r"
    }
   },
   "outputs": [
    {
     "name": "stderr",
     "output_type": "stream",
     "text": [
      "\u001b[1m\u001b[22m`summarise()` has grouped output by 'Region'. You can override using the\n",
      "`.groups` argument.\n"
     ]
    },
    {
     "name": "stdout",
     "output_type": "stream",
     "text": [
      "[1] \"Quarterly sales trends by region:\"\n",
      "\u001b[90m# A tibble: 24 × 3\u001b[39m\n",
      "   Region Quarter Total_Sales\n",
      "   \u001b[3m\u001b[90m<chr>\u001b[39m\u001b[23m  \u001b[3m\u001b[90m<chr>\u001b[39m\u001b[23m         \u001b[3m\u001b[90m<int>\u001b[39m\u001b[23m\n",
      "\u001b[90m 1\u001b[39m East   Q1_2023       \u001b[4m3\u001b[24m\u001b[4m8\u001b[24m000\n",
      "\u001b[90m 2\u001b[39m East   Q1_2024       \u001b[4m4\u001b[24m\u001b[4m2\u001b[24m000\n",
      "\u001b[90m 3\u001b[39m East   Q2_2023       \u001b[4m4\u001b[24m\u001b[4m1\u001b[24m000\n",
      "\u001b[90m 4\u001b[39m East   Q2_2024       \u001b[4m4\u001b[24m\u001b[4m6\u001b[24m000\n",
      "\u001b[90m 5\u001b[39m East   Q3_2023       \u001b[4m3\u001b[24m\u001b[4m9\u001b[24m000\n",
      "\u001b[90m 6\u001b[39m East   Q4_2023       \u001b[4m4\u001b[24m\u001b[4m4\u001b[24m000\n",
      "\u001b[90m 7\u001b[39m North  Q1_2023       \u001b[4m4\u001b[24m\u001b[4m5\u001b[24m000\n",
      "\u001b[90m 8\u001b[39m North  Q1_2024       \u001b[4m5\u001b[24m\u001b[4m0\u001b[24m000\n",
      "\u001b[90m 9\u001b[39m North  Q2_2023       \u001b[4m4\u001b[24m\u001b[4m8\u001b[24m000\n",
      "\u001b[90m10\u001b[39m North  Q2_2024       \u001b[4m5\u001b[24m\u001b[4m4\u001b[24m000\n",
      "\u001b[90m# ℹ 14 more rows\u001b[39m\n",
      "[1] \"Average growth and growth variability by region:\"\n",
      "\u001b[90m# A tibble: 4 × 3\u001b[39m\n",
      "  Region Avg_Growth Growth_SD\n",
      "  \u001b[3m\u001b[90m<chr>\u001b[39m\u001b[23m       \u001b[3m\u001b[90m<dbl>\u001b[39m\u001b[23m     \u001b[3m\u001b[90m<dbl>\u001b[39m\u001b[23m\n",
      "\u001b[90m1\u001b[39m East         \u001b[4m1\u001b[24m200     \u001b[4m5\u001b[24m215.\n",
      "\u001b[90m2\u001b[39m North        \u001b[4m1\u001b[24m400     \u001b[4m6\u001b[24m229.\n",
      "\u001b[90m3\u001b[39m South        \u001b[4m1\u001b[24m200     \u001b[4m5\u001b[24m215.\n",
      "\u001b[90m4\u001b[39m West         \u001b[4m1\u001b[24m200     \u001b[4m5\u001b[24m215.\n"
     ]
    }
   ],
   "source": [
    "# Analysis Question 1: Trend Analysis\n",
    "sales_trends <- quarterly_sales_long %>%\n",
    "  group_by(Region, Quarter) %>%\n",
    "  summarise(Total_Sales = sum(Sales_Amount, na.rm = TRUE)) %>%\n",
    "  ungroup()\n",
    "\n",
    "print(\"Quarterly sales trends by region:\")\n",
    "print(sales_trends)\n",
    "\n",
    "region_growth <- sales_trends %>%\n",
    "  group_by(Region) %>%\n",
    "  arrange(Quarter) %>%\n",
    "  mutate(Growth = Total_Sales - lag(Total_Sales)) %>%\n",
    "  summarise(Avg_Growth = mean(Growth, na.rm = TRUE),\n",
    "            Growth_SD = sd(Growth, na.rm = TRUE)) %>%\n",
    "  ungroup()\n",
    "\n",
    "print(\"Average growth and growth variability by region:\")\n",
    "print(region_growth)\n",
    "\n",
    "# low Growth_SD shows consistent growth"
   ]
  },
  {
   "cell_type": "code",
   "execution_count": 87,
   "id": "6ee2d987",
   "metadata": {
    "vscode": {
     "languageId": "r"
    }
   },
   "outputs": [
    {
     "name": "stdout",
     "output_type": "stream",
     "text": [
      "[1] \"Skill gap summary (lower average = bigger gap):\"\n",
      "\u001b[90m# A tibble: 3 × 4\u001b[39m\n",
      "  Skill         Avg_Proficiency Missing_Count Below_Threshold\n",
      "  \u001b[3m\u001b[90m<chr>\u001b[39m\u001b[23m                   \u001b[3m\u001b[90m<dbl>\u001b[39m\u001b[23m         \u001b[3m\u001b[90m<int>\u001b[39m\u001b[23m           \u001b[3m\u001b[90m<int>\u001b[39m\u001b[23m\n",
      "\u001b[90m1\u001b[39m Excel                    2.87             0              14\n",
      "\u001b[90m2\u001b[39m SQL                      3.03             0              14\n",
      "\u001b[90m3\u001b[39m R_Programming            3.1              0              11\n"
     ]
    }
   ],
   "source": [
    "# Analysis Question 2: Skills Gap Analysis  \n",
    "skill_summary <- employee_skills_long %>%\n",
    "  group_by(Skill) %>%\n",
    "  summarise(\n",
    "    Avg_Proficiency = mean(Proficiency_Level, na.rm = TRUE),\n",
    "    Missing_Count = sum(is.na(Proficiency_Level)),\n",
    "    Below_Threshold = sum(Proficiency_Level < 3, na.rm = TRUE) # Example threshold for skill gap\n",
    "  ) %>%\n",
    "  arrange(Avg_Proficiency)\n",
    "\n",
    "print(\"Skill gap summary (lower average = bigger gap):\")\n",
    "print(skill_summary)\n",
    "\n",
    "# skill gaps: lowest Avg_Proficiency, high Below_Threshold\n",
    "# prevalent skills: highest Avg_Proficiency"
   ]
  },
  {
   "cell_type": "code",
   "execution_count": 88,
   "id": "b31f74d1",
   "metadata": {
    "vscode": {
     "languageId": "r"
    }
   },
   "outputs": [
    {
     "name": "stdout",
     "output_type": "stream",
     "text": [
      "[1] \"Average scores for each question:\"\n",
      "\u001b[90m# A tibble: 1 × 6\u001b[39m\n",
      "  Respondent_ID Product_Quality Customer_Service Value_for_Money Delivery_Speed\n",
      "          \u001b[3m\u001b[90m<dbl>\u001b[39m\u001b[23m           \u001b[3m\u001b[90m<dbl>\u001b[39m\u001b[23m            \u001b[3m\u001b[90m<dbl>\u001b[39m\u001b[23m           \u001b[3m\u001b[90m<dbl>\u001b[39m\u001b[23m          \u001b[3m\u001b[90m<dbl>\u001b[39m\u001b[23m\n",
      "\u001b[90m1\u001b[39m          25.5            3.14             3.04             2.9           3.36\n",
      "\u001b[90m# ℹ 1 more variable: Overall_Satisfaction <dbl>\u001b[39m\n",
      "Highest satisfaction question: Respondent_ID \n",
      "Lowest satisfaction question: Value_for_Money \n",
      "[1] \"Correlation matrix between survey questions:\"\n",
      "                     Respondent_ID Product_Quality Customer_Service\n",
      "Respondent_ID            1.0000000     -0.10533860      -0.10574640\n",
      "Product_Quality         -0.1053386      1.00000000       0.22285138\n",
      "Customer_Service        -0.1057464      0.22285138       1.00000000\n",
      "Value_for_Money         -0.2375157      0.37750376       0.08411789\n",
      "Delivery_Speed           0.1585383     -0.11432290      -0.09463263\n",
      "Overall_Satisfaction    -0.1183897      0.02915048       0.24602334\n",
      "                     Value_for_Money Delivery_Speed Overall_Satisfaction\n",
      "Respondent_ID           -0.237515714    0.158538335          -0.11838975\n",
      "Product_Quality          0.377503757   -0.114322904           0.02915048\n",
      "Customer_Service         0.084117890   -0.094632626           0.24602334\n",
      "Value_for_Money          1.000000000    0.009456265           0.09750470\n",
      "Delivery_Speed           0.009456265    1.000000000          -0.12802446\n",
      "Overall_Satisfaction     0.097504696   -0.128024458           1.00000000\n"
     ]
    }
   ],
   "source": [
    "# Analysis Question 3: Survey Insights\n",
    "question_means <- survey_responses_wide %>%\n",
    "  summarise(across(where(is.numeric), mean, na.rm = TRUE))\n",
    "\n",
    "print(\"Average scores for each question:\")\n",
    "print(question_means)\n",
    "\n",
    "max_question <- names(question_means)[which.max(question_means)]\n",
    "min_question <- names(question_means)[which.min(question_means)]\n",
    "\n",
    "cat(\"Highest satisfaction question:\", max_question, \"\\n\")\n",
    "cat(\"Lowest satisfaction question:\", min_question, \"\\n\")\n",
    "\n",
    "cor_matrix <- survey_responses_wide %>%\n",
    "  select(where(is.numeric)) %>%\n",
    "  cor(use = \"pairwise.complete.obs\")\n",
    "\n",
    "print(\"Correlation matrix between survey questions:\")\n",
    "print(cor_matrix)\n"
   ]
  },
  {
   "cell_type": "code",
   "execution_count": 89,
   "id": "0698e900",
   "metadata": {
    "vscode": {
     "languageId": "r"
    }
   },
   "outputs": [
    {
     "name": "stdout",
     "output_type": "stream",
     "text": [
      "Reshaping the data made it much easier to answer business questions:\n",
      "- By converting sales data from wide to long format, I could group and summarize sales by region and quarter, enabling trend analysis and growth calculations.\n",
      "- Transforming employee skills data to long format allowed quick identification of skill gaps and proficiency averages across the organization.\n",
      "- Pivoting survey responses to wide format made it simple to compute averages and correlations between questions, revealing satisfaction patterns.\n",
      "- Overall, reshaping ensured each variable was in its own column and each observation in its own row, supporting flexible analysis and visualization.\n",
      "For example, calculating growth rates or skill gaps would be difficult or error-prone in wide format, but straightforward in tidy long format.\n"
     ]
    }
   ],
   "source": [
    "cat(\"Reshaping the data made it much easier to answer business questions:\\n\")\n",
    "cat(\"- By converting sales data from wide to long format, I could group and summarize sales by region and quarter, enabling trend analysis and growth calculations.\\n\")\n",
    "cat(\"- Transforming employee skills data to long format allowed quick identification of skill gaps and proficiency averages across the organization.\\n\")\n",
    "cat(\"- Pivoting survey responses to wide format made it simple to compute averages and correlations between questions, revealing satisfaction patterns.\\n\")\n",
    "cat(\"- Overall, reshaping ensured each variable was in its own column and each observation in its own row, supporting flexible analysis and visualization.\\n\")\n",
    "cat(\"For example, calculating growth rates or skill gaps would be difficult or error-prone in wide format, but straightforward in tidy long format.\\n\")"
   ]
  },
  {
   "cell_type": "markdown",
   "id": "7daa4ad8",
   "metadata": {},
   "source": [
    "## Part 9: Reflection Questions\n",
    "\n",
    "Answer the following questions in your submission:\n",
    "\n",
    "1. **Tidy Data Philosophy:** Explain the concept of \"tidy data\" in your own words. Why is this concept important for data analysis, and how does it relate to the reshaping operations you performed?\n",
    "   :Tidy data is a neat organizational way to structure datasets so that variables are in columns, rows, forming a table. It is crucial for for simplification, or Tidy formats. \n",
    "\n",
    "2. **Format Selection:** For each of the datasets you worked with, explain when you would prefer the wide format versus the long format. What factors influence this decision?\n",
    "   :Wide format is better for visualizations and summaries. Long format is preferred for analysis and modeling. \n",
    "\n",
    "3. **Business Context:** Describe three real-world business scenarios where data reshaping would be essential. For each scenario, explain what format the data might start in and what format would be needed for analysis.\n",
    "   :1. sales performance across regions. Convert to long format for a trend analysis or times series.\n",
    "   :2. Skill assessment planning. Convert to long format for distribution analysis. Then  convert to wide format for a dashboard. \n",
    "   :3. Customer feedback. Convert to long format for analysis or visualize response distributions.\n",
    "\n",
    "4. **Tool Integration:** How do the reshaping capabilities of `tidyr` complement the data manipulation functions of `dplyr`? Provide examples of analyses that require both types of operations.\n",
    "   :'tidyr' reshapes data, such as pivoting longer or wider for a better structure in analysis. 'dplyr' filters, summarizes, and mutates data. Which could be used after reshaping to calcualte data summaries. \n",
    "\n",
    "5. **Data Pipeline:** In a typical business analytics workflow, at what stage would you perform data reshaping? How does this fit into the overall data wrangling process?\n",
    "   :Datareshaping is performed after cleaning, before visualizations. Ensures data is in the correct formats for analysis and reporting.\n",
    "\n",
    "---\n",
    "\n",
    "**Submission Checklist:**\n",
    "\n",
    "- [ ] R notebook with all code and outputs completed\n",
    "- [ ] All required data reshaping operations completed successfully\n",
    "- [ ] Data validation checks performed and documented\n",
    "- [ ] Datasets prepared for visualization and further analysis\n",
    "- [ ] Answers to analysis questions with supporting evidence\n",
    "- [ ] Answers to reflection questions\n",
    "- [ ] Code is well-commented and demonstrates understanding of when to use each reshaping function\n",
    "\n",
    "Good luck!"
   ]
  }
 ],
 "metadata": {
  "kernelspec": {
   "display_name": "R",
   "language": "R",
   "name": "ir"
  },
  "language_info": {
   "codemirror_mode": "r",
   "file_extension": ".r",
   "mimetype": "text/x-r-source",
   "name": "R",
   "pygments_lexer": "r",
   "version": "4.4.3"
  }
 },
 "nbformat": 4,
 "nbformat_minor": 5
}
